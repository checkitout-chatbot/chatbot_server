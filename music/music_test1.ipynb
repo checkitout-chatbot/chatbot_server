{
 "cells": [
  {
   "cell_type": "code",
   "execution_count": 2,
   "metadata": {},
   "outputs": [
    {
     "ename": "ModuleNotFoundError",
     "evalue": "No module named 'Mecab'",
     "output_type": "error",
     "traceback": [
      "\u001b[0;31m---------------------------------------------------------------------------\u001b[0m",
      "\u001b[0;31mModuleNotFoundError\u001b[0m                       Traceback (most recent call last)",
      "\u001b[1;32m/Users/baaam771/Desktop/code/model/test.ipynb 셀 1\u001b[0m in \u001b[0;36m<cell line: 1>\u001b[0;34m()\u001b[0m\n\u001b[0;32m----> <a href='vscode-notebook-cell:/Users/baaam771/Desktop/code/model/test.ipynb#W0sZmlsZQ%3D%3D?line=0'>1</a>\u001b[0m \u001b[39mimport\u001b[39;00m \u001b[39mMecab\u001b[39;00m\n\u001b[1;32m      <a href='vscode-notebook-cell:/Users/baaam771/Desktop/code/model/test.ipynb#W0sZmlsZQ%3D%3D?line=1'>2</a>\u001b[0m tokenizer \u001b[39m=\u001b[39m Mecab\u001b[39m.\u001b[39mTagger()\n\u001b[1;32m      <a href='vscode-notebook-cell:/Users/baaam771/Desktop/code/model/test.ipynb#W0sZmlsZQ%3D%3D?line=2'>3</a>\u001b[0m text \u001b[39m=\u001b[39m tokenizer\u001b[39m.\u001b[39mparse(\u001b[39m'\u001b[39m\u001b[39m메캡 설치 완료\u001b[39m\u001b[39m'\u001b[39m)\n",
      "\u001b[0;31mModuleNotFoundError\u001b[0m: No module named 'Mecab'"
     ]
    }
   ],
   "source": [
    "import Mecab\n",
    "tokenizer = Mecab.Tagger()\n",
    "text = tokenizer.parse('메캡 설치 완료')\n",
    "print(text)"
   ]
  },
  {
   "cell_type": "code",
   "execution_count": 2,
   "metadata": {},
   "outputs": [
    {
     "name": "stdout",
     "output_type": "stream",
     "text": [
      "['아', '나', '는', '역시', '밤', '에', '일이', '잘', '되다', '.']\n"
     ]
    }
   ],
   "source": [
    "from konlpy.tag import Okt\n",
    "okt = Okt()\n",
    "text = \"아 나는 역시 밤에 일이 잘된다.\"\n",
    "\n",
    "print(okt.morphs(text, stem=True))"
   ]
  },
  {
   "cell_type": "code",
   "execution_count": 4,
   "metadata": {},
   "outputs": [],
   "source": [
    "import pandas as pd"
   ]
  },
  {
   "cell_type": "code",
   "execution_count": 5,
   "metadata": {},
   "outputs": [],
   "source": [
    "books = pd.read_csv('book_summary_renewal.csv')"
   ]
  },
  {
   "cell_type": "code",
   "execution_count": 6,
   "metadata": {},
   "outputs": [],
   "source": [
    "ori_books = pd.read_csv('data/books.csv')"
   ]
  },
  {
   "cell_type": "code",
   "execution_count": 11,
   "metadata": {},
   "outputs": [
    {
     "data": {
      "text/html": [
       "<div>\n",
       "<style scoped>\n",
       "    .dataframe tbody tr th:only-of-type {\n",
       "        vertical-align: middle;\n",
       "    }\n",
       "\n",
       "    .dataframe tbody tr th {\n",
       "        vertical-align: top;\n",
       "    }\n",
       "\n",
       "    .dataframe thead th {\n",
       "        text-align: right;\n",
       "    }\n",
       "</style>\n",
       "<table border=\"1\" class=\"dataframe\">\n",
       "  <thead>\n",
       "    <tr style=\"text-align: right;\">\n",
       "      <th></th>\n",
       "      <th>Unnamed: 0</th>\n",
       "      <th>id</th>\n",
       "      <th>title</th>\n",
       "      <th>author</th>\n",
       "      <th>publisher</th>\n",
       "      <th>summary</th>\n",
       "      <th>genre</th>\n",
       "      <th>sense</th>\n",
       "    </tr>\n",
       "  </thead>\n",
       "  <tbody>\n",
       "    <tr>\n",
       "      <th>1746</th>\n",
       "      <td>1746</td>\n",
       "      <td>1749</td>\n",
       "      <td>베르나르다 알바의 집</td>\n",
       "      <td>페데리코 가르시아 로르카 (지은이), 정선옥 (옮긴이)</td>\n",
       "      <td>범우사</td>\n",
       "      <td>범우문고 323권. 비운의 작가 훼데리코 가르시아 로르카. 그의 비극 작품 &amp;lt;...</td>\n",
       "      <td>소설/시/희곡</td>\n",
       "      <td>NaN</td>\n",
       "    </tr>\n",
       "    <tr>\n",
       "      <th>6517</th>\n",
       "      <td>6517</td>\n",
       "      <td>6528</td>\n",
       "      <td>베르나르 베르베르의 상상력 사전</td>\n",
       "      <td>베르나르 베르베르</td>\n",
       "      <td>열린책들</td>\n",
       "      <td>상상력을 자극하는 기묘한 지식을 담아낸 신개념 백과사전 『베르나르 베르베르의 상상력...</td>\n",
       "      <td>에세이</td>\n",
       "      <td>NaN</td>\n",
       "    </tr>\n",
       "    <tr>\n",
       "      <th>41904</th>\n",
       "      <td>41904</td>\n",
       "      <td>41975</td>\n",
       "      <td>나는 내꿈에 뒤진 적이 없다 - 패션제국의 황제 베르나르 아르노의 경영철학과 성공전략</td>\n",
       "      <td>베르나르 아르노, 이브 메사로비치 (지은이), 성귀수 (옮긴이)</td>\n",
       "      <td>수수꽃다리</td>\n",
       "      <td>패션제국을 리드하는 얼굴없는 CEO, 그가 처음으로 입을 열었다. 호화산업, 특히 ...</td>\n",
       "      <td>경제경영</td>\n",
       "      <td>NaN</td>\n",
       "    </tr>\n",
       "    <tr>\n",
       "      <th>47099</th>\n",
       "      <td>47099</td>\n",
       "      <td>47179</td>\n",
       "      <td>베르나르다 알바의 집</td>\n",
       "      <td>페데리코 가르시아 로르카 (지은이), 안영옥 (옮긴이)</td>\n",
       "      <td>지만지드라마</td>\n",
       "      <td>질식할 것 같은 감금 상태에서 지낼 것을 강요당한 여인들. 이들이 숙명적 사랑을 느...</td>\n",
       "      <td>소설/시/희곡</td>\n",
       "      <td>NaN</td>\n",
       "    </tr>\n",
       "    <tr>\n",
       "      <th>68616</th>\n",
       "      <td>68616</td>\n",
       "      <td>68732</td>\n",
       "      <td>베르나르 베르베르 인생소설</td>\n",
       "      <td>다니엘 이치비아</td>\n",
       "      <td>예미</td>\n",
       "      <td>한국인이 가장 좋아하는 작가 중 한 명이자 전 세계적으로 확고한 팬층을 보유하고 있...</td>\n",
       "      <td>인문학</td>\n",
       "      <td>NaN</td>\n",
       "    </tr>\n",
       "    <tr>\n",
       "      <th>76180</th>\n",
       "      <td>76180</td>\n",
       "      <td>76309</td>\n",
       "      <td>만화 베르나르 베르베르의 상상력 사전 2 - 더 깊고 풍부해진 상대적이며 절대적인 ...</td>\n",
       "      <td>베르나르 베르베르 (지은이), 김수박 (그림)</td>\n",
       "      <td>별천지(열린책들)</td>\n",
       "      <td>베스트셀러 『베르나르 베르베르의 상상력 사전』의 만화판 제2탄. 베스트셀러 『베르나...</td>\n",
       "      <td>어린이</td>\n",
       "      <td>NaN</td>\n",
       "    </tr>\n",
       "    <tr>\n",
       "      <th>76181</th>\n",
       "      <td>76181</td>\n",
       "      <td>76310</td>\n",
       "      <td>만화 베르나르 베르베르의 상상력 사전 1 - 더 깊고 풍부해진 상대적이며 절대적인 ...</td>\n",
       "      <td>베르나르 베르베르 (지은이), 김수박 (그림)</td>\n",
       "      <td>별천지(열린책들)</td>\n",
       "      <td>NaN</td>\n",
       "      <td>어린이</td>\n",
       "      <td>NaN</td>\n",
       "    </tr>\n",
       "    <tr>\n",
       "      <th>76182</th>\n",
       "      <td>76182</td>\n",
       "      <td>76311</td>\n",
       "      <td>만화 베르나르 베르베르의 상상력 사전 3 - 더 깊고 풍부해진 상대적이며 절대적인 ...</td>\n",
       "      <td>베르나르 베르베르 (지은이), 김수박 (그림)</td>\n",
       "      <td>별천지(열린책들)</td>\n",
       "      <td>&amp;lt;베르나르 베르베르의 상상력 사전&amp;gt;을 원작으로 한 만화판으로, 수많은 세...</td>\n",
       "      <td>어린이</td>\n",
       "      <td>NaN</td>\n",
       "    </tr>\n",
       "  </tbody>\n",
       "</table>\n",
       "</div>"
      ],
      "text/plain": [
       "       Unnamed: 0     id                                              title  \\\n",
       "1746         1746   1749                                        베르나르다 알바의 집   \n",
       "6517         6517   6528                                  베르나르 베르베르의 상상력 사전   \n",
       "41904       41904  41975    나는 내꿈에 뒤진 적이 없다 - 패션제국의 황제 베르나르 아르노의 경영철학과 성공전략   \n",
       "47099       47099  47179                                        베르나르다 알바의 집   \n",
       "68616       68616  68732                                     베르나르 베르베르 인생소설   \n",
       "76180       76180  76309  만화 베르나르 베르베르의 상상력 사전 2 - 더 깊고 풍부해진 상대적이며 절대적인 ...   \n",
       "76181       76181  76310  만화 베르나르 베르베르의 상상력 사전 1 - 더 깊고 풍부해진 상대적이며 절대적인 ...   \n",
       "76182       76182  76311  만화 베르나르 베르베르의 상상력 사전 3 - 더 깊고 풍부해진 상대적이며 절대적인 ...   \n",
       "\n",
       "                                    author  publisher  \\\n",
       "1746        페데리코 가르시아 로르카 (지은이), 정선옥 (옮긴이)        범우사   \n",
       "6517                             베르나르 베르베르       열린책들   \n",
       "41904  베르나르 아르노, 이브 메사로비치 (지은이), 성귀수 (옮긴이)      수수꽃다리   \n",
       "47099       페데리코 가르시아 로르카 (지은이), 안영옥 (옮긴이)     지만지드라마   \n",
       "68616                             다니엘 이치비아         예미   \n",
       "76180            베르나르 베르베르 (지은이), 김수박 (그림)  별천지(열린책들)   \n",
       "76181            베르나르 베르베르 (지은이), 김수박 (그림)  별천지(열린책들)   \n",
       "76182            베르나르 베르베르 (지은이), 김수박 (그림)  별천지(열린책들)   \n",
       "\n",
       "                                                 summary    genre sense  \n",
       "1746   범우문고 323권. 비운의 작가 훼데리코 가르시아 로르카. 그의 비극 작품 &lt;...  소설/시/희곡   NaN  \n",
       "6517   상상력을 자극하는 기묘한 지식을 담아낸 신개념 백과사전 『베르나르 베르베르의 상상력...      에세이   NaN  \n",
       "41904  패션제국을 리드하는 얼굴없는 CEO, 그가 처음으로 입을 열었다. 호화산업, 특히 ...     경제경영   NaN  \n",
       "47099  질식할 것 같은 감금 상태에서 지낼 것을 강요당한 여인들. 이들이 숙명적 사랑을 느...  소설/시/희곡   NaN  \n",
       "68616  한국인이 가장 좋아하는 작가 중 한 명이자 전 세계적으로 확고한 팬층을 보유하고 있...      인문학   NaN  \n",
       "76180  베스트셀러 『베르나르 베르베르의 상상력 사전』의 만화판 제2탄. 베스트셀러 『베르나...      어린이   NaN  \n",
       "76181                                                NaN      어린이   NaN  \n",
       "76182  &lt;베르나르 베르베르의 상상력 사전&gt;을 원작으로 한 만화판으로, 수많은 세...      어린이   NaN  "
      ]
     },
     "execution_count": 11,
     "metadata": {},
     "output_type": "execute_result"
    }
   ],
   "source": [
    "ori_books[ori_books['title'].str.contains('베르나르')]"
   ]
  },
  {
   "cell_type": "code",
   "execution_count": 10,
   "metadata": {},
   "outputs": [
    {
     "data": {
      "text/html": [
       "<div>\n",
       "<style scoped>\n",
       "    .dataframe tbody tr th:only-of-type {\n",
       "        vertical-align: middle;\n",
       "    }\n",
       "\n",
       "    .dataframe tbody tr th {\n",
       "        vertical-align: top;\n",
       "    }\n",
       "\n",
       "    .dataframe thead th {\n",
       "        text-align: right;\n",
       "    }\n",
       "</style>\n",
       "<table border=\"1\" class=\"dataframe\">\n",
       "  <thead>\n",
       "    <tr style=\"text-align: right;\">\n",
       "      <th></th>\n",
       "      <th>Unnamed: 0</th>\n",
       "      <th>id</th>\n",
       "      <th>title</th>\n",
       "      <th>author</th>\n",
       "      <th>publisher</th>\n",
       "      <th>summary</th>\n",
       "      <th>genre</th>\n",
       "      <th>sense</th>\n",
       "    </tr>\n",
       "  </thead>\n",
       "  <tbody>\n",
       "    <tr>\n",
       "      <th>77505</th>\n",
       "      <td>77505</td>\n",
       "      <td>79418</td>\n",
       "      <td>2023 8급 간호직 간호관리 기출문제집</td>\n",
       "      <td>노선영 (지은이)</td>\n",
       "      <td>서울고시각</td>\n",
       "      <td>NaN</td>\n",
       "      <td>수험서/자격증</td>\n",
       "      <td>NaN</td>\n",
       "    </tr>\n",
       "  </tbody>\n",
       "</table>\n",
       "</div>"
      ],
      "text/plain": [
       "       Unnamed: 0     id                   title     author publisher summary  \\\n",
       "77505       77505  79418  2023 8급 간호직 간호관리 기출문제집  노선영 (지은이)     서울고시각     NaN   \n",
       "\n",
       "         genre sense  \n",
       "77505  수험서/자격증   NaN  "
      ]
     },
     "execution_count": 10,
     "metadata": {},
     "output_type": "execute_result"
    }
   ],
   "source": [
    "ori_books[ori_books['title']== 79418]"
   ]
  },
  {
   "cell_type": "code",
   "execution_count": 16,
   "metadata": {},
   "outputs": [
    {
     "data": {
      "text/html": [
       "<div>\n",
       "<style scoped>\n",
       "    .dataframe tbody tr th:only-of-type {\n",
       "        vertical-align: middle;\n",
       "    }\n",
       "\n",
       "    .dataframe tbody tr th {\n",
       "        vertical-align: top;\n",
       "    }\n",
       "\n",
       "    .dataframe thead th {\n",
       "        text-align: right;\n",
       "    }\n",
       "</style>\n",
       "<table border=\"1\" class=\"dataframe\">\n",
       "  <thead>\n",
       "    <tr style=\"text-align: right;\">\n",
       "      <th></th>\n",
       "      <th>Unnamed: 0</th>\n",
       "      <th>id</th>\n",
       "      <th>summary</th>\n",
       "    </tr>\n",
       "  </thead>\n",
       "  <tbody>\n",
       "    <tr>\n",
       "      <th>6517</th>\n",
       "      <td>6517</td>\n",
       "      <td>13043</td>\n",
       "      <td>['베르나르', '베르베르', '의', '상상력', '사전', '베르나르', '베르...</td>\n",
       "    </tr>\n",
       "  </tbody>\n",
       "</table>\n",
       "</div>"
      ],
      "text/plain": [
       "      Unnamed: 0     id                                            summary\n",
       "6517        6517  13043  ['베르나르', '베르베르', '의', '상상력', '사전', '베르나르', '베르..."
      ]
     },
     "execution_count": 16,
     "metadata": {},
     "output_type": "execute_result"
    }
   ],
   "source": [
    "books[books['id'] == 6517+6526]"
   ]
  },
  {
   "cell_type": "code",
   "execution_count": 17,
   "metadata": {},
   "outputs": [],
   "source": [
    "concat_df = pd.read_csv('/Users/baaam771/Desktop/code/model/concat.csv')"
   ]
  },
  {
   "cell_type": "code",
   "execution_count": 18,
   "metadata": {},
   "outputs": [],
   "source": [
    "from konlpy.tag import Mecab\n",
    "from tqdm import tqdm\n",
    "\n",
    "# 불용어 가져오기\n",
    "stopwords = []\n",
    "with open(\"data/hangul_stopword.txt\", \"r\") as f:\n",
    "    lines = f.readlines()\n",
    "    for line in lines:\n",
    "        line = line.strip()  # 줄 끝의 줄 바꿈 문자를 제거한다.\n",
    "        line = line.replace('\\n', '')\n",
    "        stopwords.append(line)"
   ]
  },
  {
   "cell_type": "code",
   "execution_count": 19,
   "metadata": {},
   "outputs": [
    {
     "name": "stderr",
     "output_type": "stream",
     "text": [
      "/var/folders/b5/__960gvn4nd3bhxr41c7x3fw0000gn/T/ipykernel_26852/3264782026.py:1: FutureWarning: The default value of regex will change from True to False in a future version.\n",
      "  concat_df['summary'] = concat_df['summary'].str.replace(\"[^ㄱ-ㅎㅏ-ㅣ가-힣 ]\", \"\")\n"
     ]
    },
    {
     "data": {
      "text/html": [
       "<div>\n",
       "<style scoped>\n",
       "    .dataframe tbody tr th:only-of-type {\n",
       "        vertical-align: middle;\n",
       "    }\n",
       "\n",
       "    .dataframe tbody tr th {\n",
       "        vertical-align: top;\n",
       "    }\n",
       "\n",
       "    .dataframe thead th {\n",
       "        text-align: right;\n",
       "    }\n",
       "</style>\n",
       "<table border=\"1\" class=\"dataframe\">\n",
       "  <thead>\n",
       "    <tr style=\"text-align: right;\">\n",
       "      <th></th>\n",
       "      <th>Unnamed: 0</th>\n",
       "      <th>id</th>\n",
       "      <th>summary</th>\n",
       "    </tr>\n",
       "  </thead>\n",
       "  <tbody>\n",
       "    <tr>\n",
       "      <th>0</th>\n",
       "      <td>0</td>\n",
       "      <td>0</td>\n",
       "      <td>그때 그 순간 그대로 그 그 그  워 너비 가야  발라드 잘 지냈지 조금 은 어색해...</td>\n",
       "    </tr>\n",
       "    <tr>\n",
       "      <th>1</th>\n",
       "      <td>1</td>\n",
       "      <td>1</td>\n",
       "      <td>사랑 인가 봐 멜 로망스 발라드 국내 드라마 너 와 함께 하고 싶은 일 들 을 상상...</td>\n",
       "    </tr>\n",
       "    <tr>\n",
       "      <th>2</th>\n",
       "      <td>2</td>\n",
       "      <td>2</td>\n",
       "      <td>나 의  에게 경 서 발라드 우리 다시 만날 래 예쁘게 빛나던 모든 추억 들 이 너...</td>\n",
       "    </tr>\n",
       "    <tr>\n",
       "      <th>3</th>\n",
       "      <td>3</td>\n",
       "      <td>3</td>\n",
       "      <td>내 가 아니라도 주호 발라드 사랑 이었다 별거 없던 내 하루 에 빛 이 돼 준 단 ...</td>\n",
       "    </tr>\n",
       "    <tr>\n",
       "      <th>4</th>\n",
       "      <td>4</td>\n",
       "      <td>4</td>\n",
       "      <td>사랑 은 늘 도망가 임영웅 발라드 국내 드라마 눈물 이 난다 이 길 을 걸으면 그 ...</td>\n",
       "    </tr>\n",
       "    <tr>\n",
       "      <th>...</th>\n",
       "      <td>...</td>\n",
       "      <td>...</td>\n",
       "      <td>...</td>\n",
       "    </tr>\n",
       "    <tr>\n",
       "      <th>84035</th>\n",
       "      <td>84035</td>\n",
       "      <td>84035</td>\n",
       "      <td>희망 을 부르는 어린이 가을 어린이 인문 교양 인디고 서원 지은이 인디고 서 어린이</td>\n",
       "    </tr>\n",
       "    <tr>\n",
       "      <th>84036</th>\n",
       "      <td>84036</td>\n",
       "      <td>84036</td>\n",
       "      <td>상담 및 심리 교육 프로그램 개발 제판 김창 대 지은 이학 사대 학교 재전 문서</td>\n",
       "    </tr>\n",
       "    <tr>\n",
       "      <th>84037</th>\n",
       "      <td>84037</td>\n",
       "      <td>84037</td>\n",
       "      <td>조각 너 에게 주고 싶은 의 조각 이세 설 권형준 해운 공 윤경 김경아 황윤 임 제...</td>\n",
       "    </tr>\n",
       "    <tr>\n",
       "      <th>84038</th>\n",
       "      <td>84038</td>\n",
       "      <td>84038</td>\n",
       "      <td>삼봉 파 선도 채성훈 김대훈 지은이 다크 아트 삼봉 파 선도 는 인간 가진 근원 인...</td>\n",
       "    </tr>\n",
       "    <tr>\n",
       "      <th>84039</th>\n",
       "      <td>84039</td>\n",
       "      <td>84039</td>\n",
       "      <td>페이스북 광고 타겟 마케팅 하루 으로 만 도달 하기 페꼼 마 이종근 지은이 리텍 콘...</td>\n",
       "    </tr>\n",
       "  </tbody>\n",
       "</table>\n",
       "<p>84040 rows × 3 columns</p>\n",
       "</div>"
      ],
      "text/plain": [
       "       Unnamed: 0     id                                            summary\n",
       "0               0      0  그때 그 순간 그대로 그 그 그  워 너비 가야  발라드 잘 지냈지 조금 은 어색해...\n",
       "1               1      1  사랑 인가 봐 멜 로망스 발라드 국내 드라마 너 와 함께 하고 싶은 일 들 을 상상...\n",
       "2               2      2  나 의  에게 경 서 발라드 우리 다시 만날 래 예쁘게 빛나던 모든 추억 들 이 너...\n",
       "3               3      3  내 가 아니라도 주호 발라드 사랑 이었다 별거 없던 내 하루 에 빛 이 돼 준 단 ...\n",
       "4               4      4  사랑 은 늘 도망가 임영웅 발라드 국내 드라마 눈물 이 난다 이 길 을 걸으면 그 ...\n",
       "...           ...    ...                                                ...\n",
       "84035       84035  84035     희망 을 부르는 어린이 가을 어린이 인문 교양 인디고 서원 지은이 인디고 서 어린이\n",
       "84036       84036  84036       상담 및 심리 교육 프로그램 개발 제판 김창 대 지은 이학 사대 학교 재전 문서\n",
       "84037       84037  84037  조각 너 에게 주고 싶은 의 조각 이세 설 권형준 해운 공 윤경 김경아 황윤 임 제...\n",
       "84038       84038  84038  삼봉 파 선도 채성훈 김대훈 지은이 다크 아트 삼봉 파 선도 는 인간 가진 근원 인...\n",
       "84039       84039  84039  페이스북 광고 타겟 마케팅 하루 으로 만 도달 하기 페꼼 마 이종근 지은이 리텍 콘...\n",
       "\n",
       "[84040 rows x 3 columns]"
      ]
     },
     "execution_count": 19,
     "metadata": {},
     "output_type": "execute_result"
    }
   ],
   "source": [
    "concat_df['summary'] = concat_df['summary'].str.replace(\"[^ㄱ-ㅎㅏ-ㅣ가-힣 ]\", \"\")\n",
    "concat_df"
   ]
  },
  {
   "cell_type": "code",
   "execution_count": 20,
   "metadata": {},
   "outputs": [],
   "source": [
    "mecab = Mecab()\n",
    "corpus_list = []"
   ]
  },
  {
   "cell_type": "code",
   "execution_count": 21,
   "metadata": {},
   "outputs": [
    {
     "name": "stderr",
     "output_type": "stream",
     "text": [
      "100%|██████████| 84040/84040 [00:33<00:00, 2504.00it/s]\n"
     ]
    }
   ],
   "source": [
    "# summary 전처리\n",
    "# 한글 제외 나머지 문자 제거\n",
    "\n",
    "for index, row in tqdm(concat_df.iterrows(), total=len(concat_df)):\n",
    "    text = row['summary']\n",
    "    tokenized_sentence = mecab.morphs(text)\n",
    "    stopwords_removed_sentence = [\n",
    "        word for word in tokenized_sentence if not word in stopwords]  # 불용어 제거\n",
    "    corpus_list.append(stopwords_removed_sentence)\n",
    "concat_df['summary'] = corpus_list"
   ]
  },
  {
   "cell_type": "code",
   "execution_count": 22,
   "metadata": {},
   "outputs": [
    {
     "data": {
      "text/html": [
       "<div>\n",
       "<style scoped>\n",
       "    .dataframe tbody tr th:only-of-type {\n",
       "        vertical-align: middle;\n",
       "    }\n",
       "\n",
       "    .dataframe tbody tr th {\n",
       "        vertical-align: top;\n",
       "    }\n",
       "\n",
       "    .dataframe thead th {\n",
       "        text-align: right;\n",
       "    }\n",
       "</style>\n",
       "<table border=\"1\" class=\"dataframe\">\n",
       "  <thead>\n",
       "    <tr style=\"text-align: right;\">\n",
       "      <th></th>\n",
       "      <th>Unnamed: 0</th>\n",
       "      <th>id</th>\n",
       "      <th>summary</th>\n",
       "    </tr>\n",
       "  </thead>\n",
       "  <tbody>\n",
       "    <tr>\n",
       "      <th>0</th>\n",
       "      <td>0</td>\n",
       "      <td>0</td>\n",
       "      <td>[그때, 순간, 그대로, 워, 너비, 야, 발라드, 지냈, 조금, 은, 어색, 해,...</td>\n",
       "    </tr>\n",
       "    <tr>\n",
       "      <th>1</th>\n",
       "      <td>1</td>\n",
       "      <td>1</td>\n",
       "      <td>[사랑, 인가, 봐, 멜, 로망스, 발라드, 국내, 드라마, 너, 와, 함께, 고,...</td>\n",
       "    </tr>\n",
       "    <tr>\n",
       "      <th>2</th>\n",
       "      <td>2</td>\n",
       "      <td>2</td>\n",
       "      <td>[의, 에게, 경, 서, 발라드, 만날, 래, 예쁘, 게, 빛나, 던, 모든, 추억...</td>\n",
       "    </tr>\n",
       "    <tr>\n",
       "      <th>3</th>\n",
       "      <td>3</td>\n",
       "      <td>3</td>\n",
       "      <td>[라도, 주호, 발라드, 사랑, 었, 다, 별거, 던, 하루, 에, 빛, 돼, 준,...</td>\n",
       "    </tr>\n",
       "    <tr>\n",
       "      <th>4</th>\n",
       "      <td>4</td>\n",
       "      <td>4</td>\n",
       "      <td>[사랑, 은, 늘, 도망가, 임영웅, 발라드, 국내, 드라마, 눈물, 난다, 길, ...</td>\n",
       "    </tr>\n",
       "    <tr>\n",
       "      <th>...</th>\n",
       "      <td>...</td>\n",
       "      <td>...</td>\n",
       "      <td>...</td>\n",
       "    </tr>\n",
       "    <tr>\n",
       "      <th>84035</th>\n",
       "      <td>84035</td>\n",
       "      <td>84035</td>\n",
       "      <td>[희망, 을, 부르, 는, 어린이, 가을, 어린이, 인문, 교양, 인디고, 서원, ...</td>\n",
       "    </tr>\n",
       "    <tr>\n",
       "      <th>84036</th>\n",
       "      <td>84036</td>\n",
       "      <td>84036</td>\n",
       "      <td>[상담, 및, 심리, 교육, 프로그램, 개발, 제, 판, 김창, 대, 은, 이학, ...</td>\n",
       "    </tr>\n",
       "    <tr>\n",
       "      <th>84037</th>\n",
       "      <td>84037</td>\n",
       "      <td>84037</td>\n",
       "      <td>[조각, 너, 에, 게, 고, 은, 의, 조각, 세, 설, 권형준, 해운, 공, 윤...</td>\n",
       "    </tr>\n",
       "    <tr>\n",
       "      <th>84038</th>\n",
       "      <td>84038</td>\n",
       "      <td>84038</td>\n",
       "      <td>[삼봉, 파, 선, 도, 채, 성훈, 김대훈, 지은, 다크, 아트, 삼봉, 파, 선...</td>\n",
       "    </tr>\n",
       "    <tr>\n",
       "      <th>84039</th>\n",
       "      <td>84039</td>\n",
       "      <td>84039</td>\n",
       "      <td>[페이스북, 광고, 타, 겟, 마케팅, 하루, 으로, 만, 도달, 기, 페꼼, 마,...</td>\n",
       "    </tr>\n",
       "  </tbody>\n",
       "</table>\n",
       "<p>84040 rows × 3 columns</p>\n",
       "</div>"
      ],
      "text/plain": [
       "       Unnamed: 0     id                                            summary\n",
       "0               0      0  [그때, 순간, 그대로, 워, 너비, 야, 발라드, 지냈, 조금, 은, 어색, 해,...\n",
       "1               1      1  [사랑, 인가, 봐, 멜, 로망스, 발라드, 국내, 드라마, 너, 와, 함께, 고,...\n",
       "2               2      2  [의, 에게, 경, 서, 발라드, 만날, 래, 예쁘, 게, 빛나, 던, 모든, 추억...\n",
       "3               3      3  [라도, 주호, 발라드, 사랑, 었, 다, 별거, 던, 하루, 에, 빛, 돼, 준,...\n",
       "4               4      4  [사랑, 은, 늘, 도망가, 임영웅, 발라드, 국내, 드라마, 눈물, 난다, 길, ...\n",
       "...           ...    ...                                                ...\n",
       "84035       84035  84035  [희망, 을, 부르, 는, 어린이, 가을, 어린이, 인문, 교양, 인디고, 서원, ...\n",
       "84036       84036  84036  [상담, 및, 심리, 교육, 프로그램, 개발, 제, 판, 김창, 대, 은, 이학, ...\n",
       "84037       84037  84037  [조각, 너, 에, 게, 고, 은, 의, 조각, 세, 설, 권형준, 해운, 공, 윤...\n",
       "84038       84038  84038  [삼봉, 파, 선, 도, 채, 성훈, 김대훈, 지은, 다크, 아트, 삼봉, 파, 선...\n",
       "84039       84039  84039  [페이스북, 광고, 타, 겟, 마케팅, 하루, 으로, 만, 도달, 기, 페꼼, 마,...\n",
       "\n",
       "[84040 rows x 3 columns]"
      ]
     },
     "execution_count": 22,
     "metadata": {},
     "output_type": "execute_result"
    }
   ],
   "source": [
    "concat_df"
   ]
  },
  {
   "cell_type": "code",
   "execution_count": 23,
   "metadata": {},
   "outputs": [],
   "source": [
    "import pandas as pd\n",
    "from gensim.models import Word2Vec\n",
    "from sklearn.metrics.pairwise import cosine_similarity\n",
    "from konlpy.tag import Mecab\n",
    "from tqdm import tqdm\n",
    "import h5py\n",
    "import os"
   ]
  },
  {
   "cell_type": "code",
   "execution_count": 24,
   "metadata": {},
   "outputs": [],
   "source": [
    "word2vec_model = Word2Vec.load('/Users/baaam771/Desktop/code/model/data/ko.bin')"
   ]
  },
  {
   "cell_type": "code",
   "execution_count": 25,
   "metadata": {},
   "outputs": [],
   "source": [
    "# 모델 저장\n",
    "word2vec_model.wv.save_word2vec_format('data/ko.bin.gz', binary=True)"
   ]
  },
  {
   "cell_type": "code",
   "execution_count": 26,
   "metadata": {},
   "outputs": [],
   "source": [
    "word2vec_model = Word2Vec(size=200, window=3, min_count=2, workers=4)"
   ]
  },
  {
   "cell_type": "code",
   "execution_count": 27,
   "metadata": {},
   "outputs": [],
   "source": [
    "# 토큰화 전처리가 끝나면 각 단어에 고유한 정수를 맵핑해주는 정수 인코딩(Integer enoding) 작업이 필요하다. \n",
    "# 그리고 이 전처리를 위해서는 우선 단어 집합을 만들어주어야 한다! \n",
    "# 정의한 필드에 .build_vocab()을 사용하여 단어 집합을 생성할 수 있다.\n",
    "# Word2Vec 모델을 임베딩 벡터값으로 초기화\n",
    "word2vec_model.build_vocab(corpus_list)"
   ]
  },
  {
   "cell_type": "code",
   "execution_count": 28,
   "metadata": {},
   "outputs": [],
   "source": [
    "# 추가된 단어들에 대한 가중치 업데이트\n",
    "word2vec_model.intersect_word2vec_format(\n",
    "    'data/ko.bin.gz', lockf=1.0, binary=True)"
   ]
  },
  {
   "cell_type": "code",
   "execution_count": 29,
   "metadata": {},
   "outputs": [
    {
     "data": {
      "text/plain": [
       "(102781516, 126182440)"
      ]
     },
     "execution_count": 29,
     "metadata": {},
     "output_type": "execute_result"
    }
   ],
   "source": [
    "word2vec_model.train(\n",
    "    corpus_list, total_examples=word2vec_model.corpus_count, epochs=20)"
   ]
  },
  {
   "cell_type": "code",
   "execution_count": 30,
   "metadata": {},
   "outputs": [],
   "source": [
    "def get_document_vectors(document_list, word2vec_model):\n",
    "    document_embedding_list = []\n",
    "\n",
    "    # 각 문서에 대해서\n",
    "    for line in document_list:\n",
    "        doc2vec = None\n",
    "        count = 0\n",
    "        for word in line:\n",
    "          # 해당 단어가 존재하는지를 체크\n",
    "            if word in word2vec_model.wv.vocab:\n",
    "                count += 1\n",
    "                # 해당 문서에 있는 모든 단어들의 벡터값을 더한다.\n",
    "                if doc2vec is None:\n",
    "                    doc2vec = word2vec_model[word]\n",
    "                else:\n",
    "                    doc2vec = doc2vec + word2vec_model[word]\n",
    "\n",
    "        if doc2vec is not None:\n",
    "            # 단어 벡터를 모두 더한 벡터의 값을 문서 길이로 나눠준다.\n",
    "            doc2vec = doc2vec / count\n",
    "            document_embedding_list.append(doc2vec)\n",
    "\n",
    "    # 각 문서에 대한 문서 벡터 리스트를 리턴\n",
    "    return document_embedding_list"
   ]
  },
  {
   "cell_type": "code",
   "execution_count": 31,
   "metadata": {},
   "outputs": [
    {
     "name": "stderr",
     "output_type": "stream",
     "text": [
      "/var/folders/b5/__960gvn4nd3bhxr41c7x3fw0000gn/T/ipykernel_26852/1756465902.py:14: DeprecationWarning: Call to deprecated `__getitem__` (Method will be removed in 4.0.0, use self.wv.__getitem__() instead).\n",
      "  doc2vec = word2vec_model[word]\n",
      "/var/folders/b5/__960gvn4nd3bhxr41c7x3fw0000gn/T/ipykernel_26852/1756465902.py:16: DeprecationWarning: Call to deprecated `__getitem__` (Method will be removed in 4.0.0, use self.wv.__getitem__() instead).\n",
      "  doc2vec = doc2vec + word2vec_model[word]\n"
     ]
    }
   ],
   "source": [
    "document_embedding_list = get_document_vectors(\n",
    "    concat_df['summary'], word2vec_model)"
   ]
  },
  {
   "cell_type": "code",
   "execution_count": 32,
   "metadata": {},
   "outputs": [],
   "source": [
    "cosine_similarities = cosine_similarity(\n",
    "    document_embedding_list, document_embedding_list)"
   ]
  },
  {
   "cell_type": "code",
   "execution_count": 33,
   "metadata": {},
   "outputs": [
    {
     "data": {
      "text/html": [
       "<div>\n",
       "<style scoped>\n",
       "    .dataframe tbody tr th:only-of-type {\n",
       "        vertical-align: middle;\n",
       "    }\n",
       "\n",
       "    .dataframe tbody tr th {\n",
       "        vertical-align: top;\n",
       "    }\n",
       "\n",
       "    .dataframe thead th {\n",
       "        text-align: right;\n",
       "    }\n",
       "</style>\n",
       "<table border=\"1\" class=\"dataframe\">\n",
       "  <thead>\n",
       "    <tr style=\"text-align: right;\">\n",
       "      <th></th>\n",
       "      <th>Unnamed: 0</th>\n",
       "      <th>id</th>\n",
       "      <th>summary</th>\n",
       "    </tr>\n",
       "  </thead>\n",
       "  <tbody>\n",
       "    <tr>\n",
       "      <th>0</th>\n",
       "      <td>72592</td>\n",
       "      <td>72592</td>\n",
       "      <td>[진작, 이렇게, 책, 을, 읽, 었, 더라면, 장경철, 도, 반갑, 다, 참, 고...</td>\n",
       "    </tr>\n",
       "    <tr>\n",
       "      <th>1</th>\n",
       "      <td>76946</td>\n",
       "      <td>76946</td>\n",
       "      <td>[는, 꿈, 최진영, 지은, 현대, 문학, 현대, 문학, 핀, 권, 최진영, 소설,...</td>\n",
       "    </tr>\n",
       "    <tr>\n",
       "      <th>2</th>\n",
       "      <td>12693</td>\n",
       "      <td>12693</td>\n",
       "      <td>[엄마, 어떻게, 았, 어, 이나영, 지은, 안은진, 그림, 현, 암, 주니어, 이...</td>\n",
       "    </tr>\n",
       "    <tr>\n",
       "      <th>3</th>\n",
       "      <td>13012</td>\n",
       "      <td>13012</td>\n",
       "      <td>[각별, 마음, 장, 자, 끄, 상뻬, 의장, 자크, 상뻬, 지은, 이원희, 옮긴,...</td>\n",
       "    </tr>\n",
       "    <tr>\n",
       "      <th>4</th>\n",
       "      <td>21241</td>\n",
       "      <td>21241</td>\n",
       "      <td>[새롭, 게, 선, 아, 사랑, 해, 리, 커버, 이지선, 지은, 문학, 동네, 만...</td>\n",
       "    </tr>\n",
       "    <tr>\n",
       "      <th>5</th>\n",
       "      <td>12257</td>\n",
       "      <td>12257</td>\n",
       "      <td>[겨울, 숲, 으로, 몇, 발자국, 이경임, 지은, 문학, 과, 지성사, 문학과지성...</td>\n",
       "    </tr>\n",
       "    <tr>\n",
       "      <th>6</th>\n",
       "      <td>15725</td>\n",
       "      <td>15725</td>\n",
       "      <td>[미당, 시, 전집, 시집, 부터, 시집, 까지, 서정주, 지은, 민음사, 미당, ...</td>\n",
       "    </tr>\n",
       "    <tr>\n",
       "      <th>7</th>\n",
       "      <td>12237</td>\n",
       "      <td>12237</td>\n",
       "      <td>[퀴르발, 남작, 의, 성, 최제훈, 지은, 문학, 과, 지성사, 제, 회, 문학,...</td>\n",
       "    </tr>\n",
       "    <tr>\n",
       "      <th>8</th>\n",
       "      <td>13204</td>\n",
       "      <td>13204</td>\n",
       "      <td>[머, 이야기, 파트, 리크, 쥐스킨트, 지은, 장, 자크, 상페, 그림, 유, 혜...</td>\n",
       "    </tr>\n",
       "    <tr>\n",
       "      <th>9</th>\n",
       "      <td>12406</td>\n",
       "      <td>12406</td>\n",
       "      <td>[모든, 은, 영원, 했, 다, 사라지, 기, 까지, 는, 소비에트, 의, 마지막,...</td>\n",
       "    </tr>\n",
       "  </tbody>\n",
       "</table>\n",
       "</div>"
      ],
      "text/plain": [
       "   Unnamed: 0     id                                            summary\n",
       "0       72592  72592  [진작, 이렇게, 책, 을, 읽, 었, 더라면, 장경철, 도, 반갑, 다, 참, 고...\n",
       "1       76946  76946  [는, 꿈, 최진영, 지은, 현대, 문학, 현대, 문학, 핀, 권, 최진영, 소설,...\n",
       "2       12693  12693  [엄마, 어떻게, 았, 어, 이나영, 지은, 안은진, 그림, 현, 암, 주니어, 이...\n",
       "3       13012  13012  [각별, 마음, 장, 자, 끄, 상뻬, 의장, 자크, 상뻬, 지은, 이원희, 옮긴,...\n",
       "4       21241  21241  [새롭, 게, 선, 아, 사랑, 해, 리, 커버, 이지선, 지은, 문학, 동네, 만...\n",
       "5       12257  12257  [겨울, 숲, 으로, 몇, 발자국, 이경임, 지은, 문학, 과, 지성사, 문학과지성...\n",
       "6       15725  15725  [미당, 시, 전집, 시집, 부터, 시집, 까지, 서정주, 지은, 민음사, 미당, ...\n",
       "7       12237  12237  [퀴르발, 남작, 의, 성, 최제훈, 지은, 문학, 과, 지성사, 제, 회, 문학,...\n",
       "8       13204  13204  [머, 이야기, 파트, 리크, 쥐스킨트, 지은, 장, 자크, 상페, 그림, 유, 혜...\n",
       "9       12406  12406  [모든, 은, 영원, 했, 다, 사라지, 기, 까지, 는, 소비에트, 의, 마지막,..."
      ]
     },
     "execution_count": 33,
     "metadata": {},
     "output_type": "execute_result"
    }
   ],
   "source": [
    "sim_scores = list(enumerate(cosine_similarities[13043]))\n",
    "sim_scores = sorted(sim_scores, key=lambda x: x[1], reverse=True)\n",
    "sim_scores = sim_scores[1:11]\n",
    "\n",
    "# 가장 유사한 값 10권의 인덱스\n",
    "book_indices = [i[0] for i in sim_scores]\n",
    "\n",
    "# 전체 데이터프레임에서 해당 인덱스의 행만 추출. 10개의 행을 가진다.\n",
    "recommend = concat_df.iloc[book_indices].reset_index(drop=True)\n",
    "recommend"
   ]
  },
  {
   "cell_type": "code",
   "execution_count": 37,
   "metadata": {},
   "outputs": [
    {
     "ename": "TypeError",
     "evalue": "unhashable type: 'list'",
     "output_type": "error",
     "traceback": [
      "\u001b[0;31m---------------------------------------------------------------------------\u001b[0m",
      "\u001b[0;31mTypeError\u001b[0m                                 Traceback (most recent call last)",
      "\u001b[1;32m/Users/baaam771/Desktop/code/model/test.ipynb 셀 26\u001b[0m in \u001b[0;36m<cell line: 1>\u001b[0;34m()\u001b[0m\n\u001b[0;32m----> <a href='vscode-notebook-cell:/Users/baaam771/Desktop/code/model/test.ipynb#X40sZmlsZQ%3D%3D?line=0'>1</a>\u001b[0m pd\u001b[39m.\u001b[39;49mmerge(recommend, ori_books, left_on\u001b[39m=\u001b[39;49m\u001b[39m'\u001b[39;49m\u001b[39msummary\u001b[39;49m\u001b[39m'\u001b[39;49m, right_on\u001b[39m=\u001b[39;49m\u001b[39m'\u001b[39;49m\u001b[39msummary\u001b[39;49m\u001b[39m'\u001b[39;49m)\n",
      "File \u001b[0;32m/opt/homebrew/anaconda3/lib/python3.9/site-packages/pandas/core/reshape/merge.py:122\u001b[0m, in \u001b[0;36mmerge\u001b[0;34m(left, right, how, on, left_on, right_on, left_index, right_index, sort, suffixes, copy, indicator, validate)\u001b[0m\n\u001b[1;32m     90\u001b[0m \u001b[39m@Substitution\u001b[39m(\u001b[39m\"\u001b[39m\u001b[39m\\n\u001b[39;00m\u001b[39mleft : DataFrame or named Series\u001b[39m\u001b[39m\"\u001b[39m)\n\u001b[1;32m     91\u001b[0m \u001b[39m@Appender\u001b[39m(_merge_doc, indents\u001b[39m=\u001b[39m\u001b[39m0\u001b[39m)\n\u001b[1;32m     92\u001b[0m \u001b[39mdef\u001b[39;00m \u001b[39mmerge\u001b[39m(\n\u001b[0;32m   (...)\u001b[0m\n\u001b[1;32m    105\u001b[0m     validate: \u001b[39mstr\u001b[39m \u001b[39m|\u001b[39m \u001b[39mNone\u001b[39;00m \u001b[39m=\u001b[39m \u001b[39mNone\u001b[39;00m,\n\u001b[1;32m    106\u001b[0m ) \u001b[39m-\u001b[39m\u001b[39m>\u001b[39m DataFrame:\n\u001b[1;32m    107\u001b[0m     op \u001b[39m=\u001b[39m _MergeOperation(\n\u001b[1;32m    108\u001b[0m         left,\n\u001b[1;32m    109\u001b[0m         right,\n\u001b[0;32m   (...)\u001b[0m\n\u001b[1;32m    120\u001b[0m         validate\u001b[39m=\u001b[39mvalidate,\n\u001b[1;32m    121\u001b[0m     )\n\u001b[0;32m--> 122\u001b[0m     \u001b[39mreturn\u001b[39;00m op\u001b[39m.\u001b[39;49mget_result()\n",
      "File \u001b[0;32m/opt/homebrew/anaconda3/lib/python3.9/site-packages/pandas/core/reshape/merge.py:716\u001b[0m, in \u001b[0;36m_MergeOperation.get_result\u001b[0;34m(self)\u001b[0m\n\u001b[1;32m    713\u001b[0m \u001b[39mif\u001b[39;00m \u001b[39mself\u001b[39m\u001b[39m.\u001b[39mindicator:\n\u001b[1;32m    714\u001b[0m     \u001b[39mself\u001b[39m\u001b[39m.\u001b[39mleft, \u001b[39mself\u001b[39m\u001b[39m.\u001b[39mright \u001b[39m=\u001b[39m \u001b[39mself\u001b[39m\u001b[39m.\u001b[39m_indicator_pre_merge(\u001b[39mself\u001b[39m\u001b[39m.\u001b[39mleft, \u001b[39mself\u001b[39m\u001b[39m.\u001b[39mright)\n\u001b[0;32m--> 716\u001b[0m join_index, left_indexer, right_indexer \u001b[39m=\u001b[39m \u001b[39mself\u001b[39;49m\u001b[39m.\u001b[39;49m_get_join_info()\n\u001b[1;32m    718\u001b[0m llabels, rlabels \u001b[39m=\u001b[39m _items_overlap_with_suffix(\n\u001b[1;32m    719\u001b[0m     \u001b[39mself\u001b[39m\u001b[39m.\u001b[39mleft\u001b[39m.\u001b[39m_info_axis, \u001b[39mself\u001b[39m\u001b[39m.\u001b[39mright\u001b[39m.\u001b[39m_info_axis, \u001b[39mself\u001b[39m\u001b[39m.\u001b[39msuffixes\n\u001b[1;32m    720\u001b[0m )\n\u001b[1;32m    722\u001b[0m lindexers \u001b[39m=\u001b[39m {\u001b[39m1\u001b[39m: left_indexer} \u001b[39mif\u001b[39;00m left_indexer \u001b[39mis\u001b[39;00m \u001b[39mnot\u001b[39;00m \u001b[39mNone\u001b[39;00m \u001b[39melse\u001b[39;00m {}\n",
      "File \u001b[0;32m/opt/homebrew/anaconda3/lib/python3.9/site-packages/pandas/core/reshape/merge.py:967\u001b[0m, in \u001b[0;36m_MergeOperation._get_join_info\u001b[0;34m(self)\u001b[0m\n\u001b[1;32m    963\u001b[0m     join_index, right_indexer, left_indexer \u001b[39m=\u001b[39m _left_join_on_index(\n\u001b[1;32m    964\u001b[0m         right_ax, left_ax, \u001b[39mself\u001b[39m\u001b[39m.\u001b[39mright_join_keys, sort\u001b[39m=\u001b[39m\u001b[39mself\u001b[39m\u001b[39m.\u001b[39msort\n\u001b[1;32m    965\u001b[0m     )\n\u001b[1;32m    966\u001b[0m \u001b[39melse\u001b[39;00m:\n\u001b[0;32m--> 967\u001b[0m     (left_indexer, right_indexer) \u001b[39m=\u001b[39m \u001b[39mself\u001b[39;49m\u001b[39m.\u001b[39;49m_get_join_indexers()\n\u001b[1;32m    969\u001b[0m     \u001b[39mif\u001b[39;00m \u001b[39mself\u001b[39m\u001b[39m.\u001b[39mright_index:\n\u001b[1;32m    970\u001b[0m         \u001b[39mif\u001b[39;00m \u001b[39mlen\u001b[39m(\u001b[39mself\u001b[39m\u001b[39m.\u001b[39mleft) \u001b[39m>\u001b[39m \u001b[39m0\u001b[39m:\n",
      "File \u001b[0;32m/opt/homebrew/anaconda3/lib/python3.9/site-packages/pandas/core/reshape/merge.py:941\u001b[0m, in \u001b[0;36m_MergeOperation._get_join_indexers\u001b[0;34m(self)\u001b[0m\n\u001b[1;32m    939\u001b[0m \u001b[39mdef\u001b[39;00m \u001b[39m_get_join_indexers\u001b[39m(\u001b[39mself\u001b[39m) \u001b[39m-\u001b[39m\u001b[39m>\u001b[39m \u001b[39mtuple\u001b[39m[npt\u001b[39m.\u001b[39mNDArray[np\u001b[39m.\u001b[39mintp], npt\u001b[39m.\u001b[39mNDArray[np\u001b[39m.\u001b[39mintp]]:\n\u001b[1;32m    940\u001b[0m     \u001b[39m\"\"\"return the join indexers\"\"\"\u001b[39;00m\n\u001b[0;32m--> 941\u001b[0m     \u001b[39mreturn\u001b[39;00m get_join_indexers(\n\u001b[1;32m    942\u001b[0m         \u001b[39mself\u001b[39;49m\u001b[39m.\u001b[39;49mleft_join_keys, \u001b[39mself\u001b[39;49m\u001b[39m.\u001b[39;49mright_join_keys, sort\u001b[39m=\u001b[39;49m\u001b[39mself\u001b[39;49m\u001b[39m.\u001b[39;49msort, how\u001b[39m=\u001b[39;49m\u001b[39mself\u001b[39;49m\u001b[39m.\u001b[39;49mhow\n\u001b[1;32m    943\u001b[0m     )\n",
      "File \u001b[0;32m/opt/homebrew/anaconda3/lib/python3.9/site-packages/pandas/core/reshape/merge.py:1484\u001b[0m, in \u001b[0;36mget_join_indexers\u001b[0;34m(left_keys, right_keys, sort, how, **kwargs)\u001b[0m\n\u001b[1;32m   1479\u001b[0m \u001b[39m# get left & right join labels and num. of levels at each location\u001b[39;00m\n\u001b[1;32m   1480\u001b[0m mapped \u001b[39m=\u001b[39m (\n\u001b[1;32m   1481\u001b[0m     _factorize_keys(left_keys[n], right_keys[n], sort\u001b[39m=\u001b[39msort, how\u001b[39m=\u001b[39mhow)\n\u001b[1;32m   1482\u001b[0m     \u001b[39mfor\u001b[39;00m n \u001b[39min\u001b[39;00m \u001b[39mrange\u001b[39m(\u001b[39mlen\u001b[39m(left_keys))\n\u001b[1;32m   1483\u001b[0m )\n\u001b[0;32m-> 1484\u001b[0m zipped \u001b[39m=\u001b[39m \u001b[39mzip\u001b[39;49m(\u001b[39m*\u001b[39;49mmapped)\n\u001b[1;32m   1485\u001b[0m llab, rlab, shape \u001b[39m=\u001b[39m (\u001b[39mlist\u001b[39m(x) \u001b[39mfor\u001b[39;00m x \u001b[39min\u001b[39;00m zipped)\n\u001b[1;32m   1487\u001b[0m \u001b[39m# get flat i8 keys from label lists\u001b[39;00m\n",
      "File \u001b[0;32m/opt/homebrew/anaconda3/lib/python3.9/site-packages/pandas/core/reshape/merge.py:1481\u001b[0m, in \u001b[0;36m<genexpr>\u001b[0;34m(.0)\u001b[0m\n\u001b[1;32m   1475\u001b[0m \u001b[39massert\u001b[39;00m \u001b[39mlen\u001b[39m(left_keys) \u001b[39m==\u001b[39m \u001b[39mlen\u001b[39m(\n\u001b[1;32m   1476\u001b[0m     right_keys\n\u001b[1;32m   1477\u001b[0m ), \u001b[39m\"\u001b[39m\u001b[39mleft_key and right_keys must be the same length\u001b[39m\u001b[39m\"\u001b[39m\n\u001b[1;32m   1479\u001b[0m \u001b[39m# get left & right join labels and num. of levels at each location\u001b[39;00m\n\u001b[1;32m   1480\u001b[0m mapped \u001b[39m=\u001b[39m (\n\u001b[0;32m-> 1481\u001b[0m     _factorize_keys(left_keys[n], right_keys[n], sort\u001b[39m=\u001b[39;49msort, how\u001b[39m=\u001b[39;49mhow)\n\u001b[1;32m   1482\u001b[0m     \u001b[39mfor\u001b[39;00m n \u001b[39min\u001b[39;00m \u001b[39mrange\u001b[39m(\u001b[39mlen\u001b[39m(left_keys))\n\u001b[1;32m   1483\u001b[0m )\n\u001b[1;32m   1484\u001b[0m zipped \u001b[39m=\u001b[39m \u001b[39mzip\u001b[39m(\u001b[39m*\u001b[39mmapped)\n\u001b[1;32m   1485\u001b[0m llab, rlab, shape \u001b[39m=\u001b[39m (\u001b[39mlist\u001b[39m(x) \u001b[39mfor\u001b[39;00m x \u001b[39min\u001b[39;00m zipped)\n",
      "File \u001b[0;32m/opt/homebrew/anaconda3/lib/python3.9/site-packages/pandas/core/reshape/merge.py:2183\u001b[0m, in \u001b[0;36m_factorize_keys\u001b[0;34m(lk, rk, sort, how)\u001b[0m\n\u001b[1;32m   2178\u001b[0m rizer \u001b[39m=\u001b[39m klass(\u001b[39mmax\u001b[39m(\u001b[39mlen\u001b[39m(lk), \u001b[39mlen\u001b[39m(rk)))\n\u001b[1;32m   2180\u001b[0m \u001b[39m# Argument 1 to \"factorize\" of \"ObjectFactorizer\" has incompatible type\u001b[39;00m\n\u001b[1;32m   2181\u001b[0m \u001b[39m# \"Union[ndarray[Any, dtype[signedinteger[_64Bit]]],\u001b[39;00m\n\u001b[1;32m   2182\u001b[0m \u001b[39m# ndarray[Any, dtype[object_]]]\"; expected \"ndarray[Any, dtype[object_]]\"\u001b[39;00m\n\u001b[0;32m-> 2183\u001b[0m llab \u001b[39m=\u001b[39m rizer\u001b[39m.\u001b[39;49mfactorize(lk)  \u001b[39m# type: ignore[arg-type]\u001b[39;00m\n\u001b[1;32m   2184\u001b[0m \u001b[39m# Argument 1 to \"factorize\" of \"ObjectFactorizer\" has incompatible type\u001b[39;00m\n\u001b[1;32m   2185\u001b[0m \u001b[39m# \"Union[ndarray[Any, dtype[signedinteger[_64Bit]]],\u001b[39;00m\n\u001b[1;32m   2186\u001b[0m \u001b[39m# ndarray[Any, dtype[object_]]]\"; expected \"ndarray[Any, dtype[object_]]\"\u001b[39;00m\n\u001b[1;32m   2187\u001b[0m rlab \u001b[39m=\u001b[39m rizer\u001b[39m.\u001b[39mfactorize(rk)  \u001b[39m# type: ignore[arg-type]\u001b[39;00m\n",
      "File \u001b[0;32m/opt/homebrew/anaconda3/lib/python3.9/site-packages/pandas/_libs/hashtable.pyx:124\u001b[0m, in \u001b[0;36mpandas._libs.hashtable.ObjectFactorizer.factorize\u001b[0;34m()\u001b[0m\n",
      "File \u001b[0;32mpandas/_libs/hashtable_class_helper.pxi:5402\u001b[0m, in \u001b[0;36mpandas._libs.hashtable.PyObjectHashTable.get_labels\u001b[0;34m()\u001b[0m\n",
      "File \u001b[0;32mpandas/_libs/hashtable_class_helper.pxi:5310\u001b[0m, in \u001b[0;36mpandas._libs.hashtable.PyObjectHashTable._unique\u001b[0;34m()\u001b[0m\n",
      "\u001b[0;31mTypeError\u001b[0m: unhashable type: 'list'"
     ]
    }
   ],
   "source": [
    "pd.merge(recommend, ori_books, left_on='summary', right_on='summary')"
   ]
  },
  {
   "cell_type": "code",
   "execution_count": 34,
   "metadata": {},
   "outputs": [
    {
     "ename": "TypeError",
     "evalue": "unhashable type: 'list'",
     "output_type": "error",
     "traceback": [
      "\u001b[0;31m---------------------------------------------------------------------------\u001b[0m",
      "\u001b[0;31mTypeError\u001b[0m                                 Traceback (most recent call last)",
      "\u001b[1;32m/Users/baaam771/Desktop/code/model/test.ipynb 셀 26\u001b[0m in \u001b[0;36m<cell line: 1>\u001b[0;34m()\u001b[0m\n\u001b[0;32m----> <a href='vscode-notebook-cell:/Users/baaam771/Desktop/code/model/test.ipynb#X36sZmlsZQ%3D%3D?line=0'>1</a>\u001b[0m pd\u001b[39m.\u001b[39;49mmerge(recommend, ori_books)\n",
      "File \u001b[0;32m/opt/homebrew/anaconda3/lib/python3.9/site-packages/pandas/core/reshape/merge.py:122\u001b[0m, in \u001b[0;36mmerge\u001b[0;34m(left, right, how, on, left_on, right_on, left_index, right_index, sort, suffixes, copy, indicator, validate)\u001b[0m\n\u001b[1;32m     90\u001b[0m \u001b[39m@Substitution\u001b[39m(\u001b[39m\"\u001b[39m\u001b[39m\\n\u001b[39;00m\u001b[39mleft : DataFrame or named Series\u001b[39m\u001b[39m\"\u001b[39m)\n\u001b[1;32m     91\u001b[0m \u001b[39m@Appender\u001b[39m(_merge_doc, indents\u001b[39m=\u001b[39m\u001b[39m0\u001b[39m)\n\u001b[1;32m     92\u001b[0m \u001b[39mdef\u001b[39;00m \u001b[39mmerge\u001b[39m(\n\u001b[0;32m   (...)\u001b[0m\n\u001b[1;32m    105\u001b[0m     validate: \u001b[39mstr\u001b[39m \u001b[39m|\u001b[39m \u001b[39mNone\u001b[39;00m \u001b[39m=\u001b[39m \u001b[39mNone\u001b[39;00m,\n\u001b[1;32m    106\u001b[0m ) \u001b[39m-\u001b[39m\u001b[39m>\u001b[39m DataFrame:\n\u001b[1;32m    107\u001b[0m     op \u001b[39m=\u001b[39m _MergeOperation(\n\u001b[1;32m    108\u001b[0m         left,\n\u001b[1;32m    109\u001b[0m         right,\n\u001b[0;32m   (...)\u001b[0m\n\u001b[1;32m    120\u001b[0m         validate\u001b[39m=\u001b[39mvalidate,\n\u001b[1;32m    121\u001b[0m     )\n\u001b[0;32m--> 122\u001b[0m     \u001b[39mreturn\u001b[39;00m op\u001b[39m.\u001b[39;49mget_result()\n",
      "File \u001b[0;32m/opt/homebrew/anaconda3/lib/python3.9/site-packages/pandas/core/reshape/merge.py:716\u001b[0m, in \u001b[0;36m_MergeOperation.get_result\u001b[0;34m(self)\u001b[0m\n\u001b[1;32m    713\u001b[0m \u001b[39mif\u001b[39;00m \u001b[39mself\u001b[39m\u001b[39m.\u001b[39mindicator:\n\u001b[1;32m    714\u001b[0m     \u001b[39mself\u001b[39m\u001b[39m.\u001b[39mleft, \u001b[39mself\u001b[39m\u001b[39m.\u001b[39mright \u001b[39m=\u001b[39m \u001b[39mself\u001b[39m\u001b[39m.\u001b[39m_indicator_pre_merge(\u001b[39mself\u001b[39m\u001b[39m.\u001b[39mleft, \u001b[39mself\u001b[39m\u001b[39m.\u001b[39mright)\n\u001b[0;32m--> 716\u001b[0m join_index, left_indexer, right_indexer \u001b[39m=\u001b[39m \u001b[39mself\u001b[39;49m\u001b[39m.\u001b[39;49m_get_join_info()\n\u001b[1;32m    718\u001b[0m llabels, rlabels \u001b[39m=\u001b[39m _items_overlap_with_suffix(\n\u001b[1;32m    719\u001b[0m     \u001b[39mself\u001b[39m\u001b[39m.\u001b[39mleft\u001b[39m.\u001b[39m_info_axis, \u001b[39mself\u001b[39m\u001b[39m.\u001b[39mright\u001b[39m.\u001b[39m_info_axis, \u001b[39mself\u001b[39m\u001b[39m.\u001b[39msuffixes\n\u001b[1;32m    720\u001b[0m )\n\u001b[1;32m    722\u001b[0m lindexers \u001b[39m=\u001b[39m {\u001b[39m1\u001b[39m: left_indexer} \u001b[39mif\u001b[39;00m left_indexer \u001b[39mis\u001b[39;00m \u001b[39mnot\u001b[39;00m \u001b[39mNone\u001b[39;00m \u001b[39melse\u001b[39;00m {}\n",
      "File \u001b[0;32m/opt/homebrew/anaconda3/lib/python3.9/site-packages/pandas/core/reshape/merge.py:967\u001b[0m, in \u001b[0;36m_MergeOperation._get_join_info\u001b[0;34m(self)\u001b[0m\n\u001b[1;32m    963\u001b[0m     join_index, right_indexer, left_indexer \u001b[39m=\u001b[39m _left_join_on_index(\n\u001b[1;32m    964\u001b[0m         right_ax, left_ax, \u001b[39mself\u001b[39m\u001b[39m.\u001b[39mright_join_keys, sort\u001b[39m=\u001b[39m\u001b[39mself\u001b[39m\u001b[39m.\u001b[39msort\n\u001b[1;32m    965\u001b[0m     )\n\u001b[1;32m    966\u001b[0m \u001b[39melse\u001b[39;00m:\n\u001b[0;32m--> 967\u001b[0m     (left_indexer, right_indexer) \u001b[39m=\u001b[39m \u001b[39mself\u001b[39;49m\u001b[39m.\u001b[39;49m_get_join_indexers()\n\u001b[1;32m    969\u001b[0m     \u001b[39mif\u001b[39;00m \u001b[39mself\u001b[39m\u001b[39m.\u001b[39mright_index:\n\u001b[1;32m    970\u001b[0m         \u001b[39mif\u001b[39;00m \u001b[39mlen\u001b[39m(\u001b[39mself\u001b[39m\u001b[39m.\u001b[39mleft) \u001b[39m>\u001b[39m \u001b[39m0\u001b[39m:\n",
      "File \u001b[0;32m/opt/homebrew/anaconda3/lib/python3.9/site-packages/pandas/core/reshape/merge.py:941\u001b[0m, in \u001b[0;36m_MergeOperation._get_join_indexers\u001b[0;34m(self)\u001b[0m\n\u001b[1;32m    939\u001b[0m \u001b[39mdef\u001b[39;00m \u001b[39m_get_join_indexers\u001b[39m(\u001b[39mself\u001b[39m) \u001b[39m-\u001b[39m\u001b[39m>\u001b[39m \u001b[39mtuple\u001b[39m[npt\u001b[39m.\u001b[39mNDArray[np\u001b[39m.\u001b[39mintp], npt\u001b[39m.\u001b[39mNDArray[np\u001b[39m.\u001b[39mintp]]:\n\u001b[1;32m    940\u001b[0m     \u001b[39m\"\"\"return the join indexers\"\"\"\u001b[39;00m\n\u001b[0;32m--> 941\u001b[0m     \u001b[39mreturn\u001b[39;00m get_join_indexers(\n\u001b[1;32m    942\u001b[0m         \u001b[39mself\u001b[39;49m\u001b[39m.\u001b[39;49mleft_join_keys, \u001b[39mself\u001b[39;49m\u001b[39m.\u001b[39;49mright_join_keys, sort\u001b[39m=\u001b[39;49m\u001b[39mself\u001b[39;49m\u001b[39m.\u001b[39;49msort, how\u001b[39m=\u001b[39;49m\u001b[39mself\u001b[39;49m\u001b[39m.\u001b[39;49mhow\n\u001b[1;32m    943\u001b[0m     )\n",
      "File \u001b[0;32m/opt/homebrew/anaconda3/lib/python3.9/site-packages/pandas/core/reshape/merge.py:1484\u001b[0m, in \u001b[0;36mget_join_indexers\u001b[0;34m(left_keys, right_keys, sort, how, **kwargs)\u001b[0m\n\u001b[1;32m   1479\u001b[0m \u001b[39m# get left & right join labels and num. of levels at each location\u001b[39;00m\n\u001b[1;32m   1480\u001b[0m mapped \u001b[39m=\u001b[39m (\n\u001b[1;32m   1481\u001b[0m     _factorize_keys(left_keys[n], right_keys[n], sort\u001b[39m=\u001b[39msort, how\u001b[39m=\u001b[39mhow)\n\u001b[1;32m   1482\u001b[0m     \u001b[39mfor\u001b[39;00m n \u001b[39min\u001b[39;00m \u001b[39mrange\u001b[39m(\u001b[39mlen\u001b[39m(left_keys))\n\u001b[1;32m   1483\u001b[0m )\n\u001b[0;32m-> 1484\u001b[0m zipped \u001b[39m=\u001b[39m \u001b[39mzip\u001b[39;49m(\u001b[39m*\u001b[39;49mmapped)\n\u001b[1;32m   1485\u001b[0m llab, rlab, shape \u001b[39m=\u001b[39m (\u001b[39mlist\u001b[39m(x) \u001b[39mfor\u001b[39;00m x \u001b[39min\u001b[39;00m zipped)\n\u001b[1;32m   1487\u001b[0m \u001b[39m# get flat i8 keys from label lists\u001b[39;00m\n",
      "File \u001b[0;32m/opt/homebrew/anaconda3/lib/python3.9/site-packages/pandas/core/reshape/merge.py:1481\u001b[0m, in \u001b[0;36m<genexpr>\u001b[0;34m(.0)\u001b[0m\n\u001b[1;32m   1475\u001b[0m \u001b[39massert\u001b[39;00m \u001b[39mlen\u001b[39m(left_keys) \u001b[39m==\u001b[39m \u001b[39mlen\u001b[39m(\n\u001b[1;32m   1476\u001b[0m     right_keys\n\u001b[1;32m   1477\u001b[0m ), \u001b[39m\"\u001b[39m\u001b[39mleft_key and right_keys must be the same length\u001b[39m\u001b[39m\"\u001b[39m\n\u001b[1;32m   1479\u001b[0m \u001b[39m# get left & right join labels and num. of levels at each location\u001b[39;00m\n\u001b[1;32m   1480\u001b[0m mapped \u001b[39m=\u001b[39m (\n\u001b[0;32m-> 1481\u001b[0m     _factorize_keys(left_keys[n], right_keys[n], sort\u001b[39m=\u001b[39;49msort, how\u001b[39m=\u001b[39;49mhow)\n\u001b[1;32m   1482\u001b[0m     \u001b[39mfor\u001b[39;00m n \u001b[39min\u001b[39;00m \u001b[39mrange\u001b[39m(\u001b[39mlen\u001b[39m(left_keys))\n\u001b[1;32m   1483\u001b[0m )\n\u001b[1;32m   1484\u001b[0m zipped \u001b[39m=\u001b[39m \u001b[39mzip\u001b[39m(\u001b[39m*\u001b[39mmapped)\n\u001b[1;32m   1485\u001b[0m llab, rlab, shape \u001b[39m=\u001b[39m (\u001b[39mlist\u001b[39m(x) \u001b[39mfor\u001b[39;00m x \u001b[39min\u001b[39;00m zipped)\n",
      "File \u001b[0;32m/opt/homebrew/anaconda3/lib/python3.9/site-packages/pandas/core/reshape/merge.py:2183\u001b[0m, in \u001b[0;36m_factorize_keys\u001b[0;34m(lk, rk, sort, how)\u001b[0m\n\u001b[1;32m   2178\u001b[0m rizer \u001b[39m=\u001b[39m klass(\u001b[39mmax\u001b[39m(\u001b[39mlen\u001b[39m(lk), \u001b[39mlen\u001b[39m(rk)))\n\u001b[1;32m   2180\u001b[0m \u001b[39m# Argument 1 to \"factorize\" of \"ObjectFactorizer\" has incompatible type\u001b[39;00m\n\u001b[1;32m   2181\u001b[0m \u001b[39m# \"Union[ndarray[Any, dtype[signedinteger[_64Bit]]],\u001b[39;00m\n\u001b[1;32m   2182\u001b[0m \u001b[39m# ndarray[Any, dtype[object_]]]\"; expected \"ndarray[Any, dtype[object_]]\"\u001b[39;00m\n\u001b[0;32m-> 2183\u001b[0m llab \u001b[39m=\u001b[39m rizer\u001b[39m.\u001b[39;49mfactorize(lk)  \u001b[39m# type: ignore[arg-type]\u001b[39;00m\n\u001b[1;32m   2184\u001b[0m \u001b[39m# Argument 1 to \"factorize\" of \"ObjectFactorizer\" has incompatible type\u001b[39;00m\n\u001b[1;32m   2185\u001b[0m \u001b[39m# \"Union[ndarray[Any, dtype[signedinteger[_64Bit]]],\u001b[39;00m\n\u001b[1;32m   2186\u001b[0m \u001b[39m# ndarray[Any, dtype[object_]]]\"; expected \"ndarray[Any, dtype[object_]]\"\u001b[39;00m\n\u001b[1;32m   2187\u001b[0m rlab \u001b[39m=\u001b[39m rizer\u001b[39m.\u001b[39mfactorize(rk)  \u001b[39m# type: ignore[arg-type]\u001b[39;00m\n",
      "File \u001b[0;32m/opt/homebrew/anaconda3/lib/python3.9/site-packages/pandas/_libs/hashtable.pyx:124\u001b[0m, in \u001b[0;36mpandas._libs.hashtable.ObjectFactorizer.factorize\u001b[0;34m()\u001b[0m\n",
      "File \u001b[0;32mpandas/_libs/hashtable_class_helper.pxi:5402\u001b[0m, in \u001b[0;36mpandas._libs.hashtable.PyObjectHashTable.get_labels\u001b[0;34m()\u001b[0m\n",
      "File \u001b[0;32mpandas/_libs/hashtable_class_helper.pxi:5310\u001b[0m, in \u001b[0;36mpandas._libs.hashtable.PyObjectHashTable._unique\u001b[0;34m()\u001b[0m\n",
      "\u001b[0;31mTypeError\u001b[0m: unhashable type: 'list'"
     ]
    }
   ],
   "source": [
    "pd.merge(recommend, ori_books)"
   ]
  },
  {
   "cell_type": "code",
   "execution_count": null,
   "metadata": {},
   "outputs": [],
   "source": [
    "books[books['id'] == 6517+6526]"
   ]
  }
 ],
 "metadata": {
  "kernelspec": {
   "display_name": "Python 3.9.12 ('base')",
   "language": "python",
   "name": "python3"
  },
  "language_info": {
   "codemirror_mode": {
    "name": "ipython",
    "version": 3
   },
   "file_extension": ".py",
   "mimetype": "text/x-python",
   "name": "python",
   "nbconvert_exporter": "python",
   "pygments_lexer": "ipython3",
   "version": "3.9.12"
  },
  "orig_nbformat": 4,
  "vscode": {
   "interpreter": {
    "hash": "38cca0c38332a56087b24af0bc80247f4fced29cb4f7f437d91dc159adec9c4e"
   }
  }
 },
 "nbformat": 4,
 "nbformat_minor": 2
}
